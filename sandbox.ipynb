{
 "cells": [
  {
   "metadata": {
    "ExecuteTime": {
     "end_time": "2025-06-11T04:56:18.673014Z",
     "start_time": "2025-06-11T04:56:18.660327Z"
    }
   },
   "cell_type": "code",
   "source": [
    "\n",
    "%load_ext autoreload\n",
    "%autoreload 2"
   ],
   "id": "965a0b5d8359822d",
   "outputs": [
    {
     "name": "stdout",
     "output_type": "stream",
     "text": [
      "The autoreload extension is already loaded. To reload it, use:\n",
      "  %reload_ext autoreload\n"
     ]
    }
   ],
   "execution_count": 43
  },
  {
   "cell_type": "code",
   "id": "initial_id",
   "metadata": {
    "collapsed": true,
    "ExecuteTime": {
     "end_time": "2025-06-11T04:56:18.694410Z",
     "start_time": "2025-06-11T04:56:18.683603Z"
    }
   },
   "source": [
    "import numpy as np\n",
    "\n",
    "from src.constrained_min import InteriorPointSolver\n",
    "from tests.examples import Quadratic, Linear\n",
    "from src.unconstrained_min import Newton\n",
    "from src.utils import show_function"
   ],
   "outputs": [],
   "execution_count": 44
  },
  {
   "metadata": {
    "ExecuteTime": {
     "end_time": "2025-06-11T04:56:18.750036Z",
     "start_time": "2025-06-11T04:56:18.710326Z"
    }
   },
   "cell_type": "code",
   "source": [
    "ineq = [Linear(row) for row in -np.eye(3)]\n",
    "f = Quadratic(np.eye(3)) + Linear([0,0,2]) + 1\n",
    "x0 = np.array([0.1, 0.2, 0.7])\n",
    "A = np.array([[1,1,1]])\n",
    "b = np.array([1])\n",
    "\n",
    "solver = InteriorPointSolver()\n",
    "solver.solve(f, ineq, A, b, x0)"
   ],
   "id": "a1f17b9a493b33e9",
   "outputs": [
    {
     "name": "stdout",
     "output_type": "stream",
     "text": [
      "[1] x: [0.1 0.2 0.7], y: 2.94\n",
      "[2] x: [0.38379594 0.38379594 0.23240812], y: 1.813428422427657\n",
      "[3] x: [0.46492546 0.46492546 0.07014908], y: 1.5775304182382435\n",
      "[4] x: [0.49523263 0.49523263 0.00953474], y: 1.5096711027678615\n",
      "[5] x: [0.49950248 0.49950248 0.00099504], y: 1.500996522791573\n",
      "[6] x: [4.99950025e-01 4.99950025e-01 9.99500380e-05], y: 1.500099965022978\n",
      "[7] x: [4.99995000e-01 4.99995000e-01 9.99949984e-06], y: 1.500009999649827\n",
      "[8] x: [4.99999500e-01 4.99999500e-01 9.99994989e-07], y: 1.5000009999964883\n",
      "[9] x: [4.9999995e-01 4.9999995e-01 9.9999949e-08], y: 1.500000099999963\n",
      "[10] x: [4.99999995e-01 4.99999995e-01 9.99999940e-09], y: 1.500000009999999\n",
      "[11] x: [4.99999999e-01 4.99999999e-01 9.99999985e-10], y: 1.5000000009999996\n"
     ]
    },
    {
     "data": {
      "text/plain": [
       "{'x': array([5.00000000e-01, 5.00000000e-01, 9.99949768e-11]),\n",
       " 'f': np.float64(1.5000000000999945),\n",
       " 'iterations': 12,\n",
       " 'history': [array([0.1 , 0.2 , 0.7 , 2.94]),\n",
       "  array([0.38379594, 0.38379594, 0.23240812, 1.81342842]),\n",
       "  array([0.46492546, 0.46492546, 0.07014908, 1.57753042]),\n",
       "  array([0.49523263, 0.49523263, 0.00953474, 1.5096711 ]),\n",
       "  array([4.99502481e-01, 4.99502481e-01, 9.95037642e-04, 1.50099652e+00]),\n",
       "  array([4.99950025e-01, 4.99950025e-01, 9.99500380e-05, 1.50009997e+00]),\n",
       "  array([4.99995000e-01, 4.99995000e-01, 9.99949984e-06, 1.50001000e+00]),\n",
       "  array([4.99999500e-01, 4.99999500e-01, 9.99994989e-07, 1.50000100e+00]),\n",
       "  array([4.9999995e-01, 4.9999995e-01, 9.9999949e-08, 1.5000001e+00]),\n",
       "  array([4.99999995e-01, 4.99999995e-01, 9.99999940e-09, 1.50000001e+00]),\n",
       "  array([4.99999999e-01, 4.99999999e-01, 9.99999985e-10, 1.50000000e+00]),\n",
       "  array([5.00000000e-01, 5.00000000e-01, 9.99949768e-11, 1.50000000e+00])]}"
      ]
     },
     "execution_count": 45,
     "metadata": {},
     "output_type": "execute_result"
    }
   ],
   "execution_count": 45
  },
  {
   "metadata": {
    "ExecuteTime": {
     "end_time": "2025-06-11T04:56:18.791493Z",
     "start_time": "2025-06-11T04:56:18.783002Z"
    }
   },
   "cell_type": "code",
   "source": "f.dim",
   "id": "a4f10aeabb007210",
   "outputs": [
    {
     "data": {
      "text/plain": [
       "3"
      ]
     },
     "execution_count": 46,
     "metadata": {},
     "output_type": "execute_result"
    }
   ],
   "execution_count": 46
  },
  {
   "metadata": {
    "ExecuteTime": {
     "end_time": "2025-06-11T04:56:18.816689Z",
     "start_time": "2025-06-11T04:56:18.807848Z"
    }
   },
   "cell_type": "code",
   "source": [
    "f = Quadratic(np.eye(3))\n",
    "A = np.array([1,2,1])\n",
    "b = 4\n",
    "solver = Newton()\n",
    "x0 = [0,2,0]\n",
    "# x0 = [1,1,1]\n",
    "solver.solve(f=f, x0=x0, A=A, b=b)"
   ],
   "id": "5de715469fa37fd5",
   "outputs": [
    {
     "name": "stdout",
     "output_type": "stream",
     "text": [
      "\n",
      "Solving Quadratic using Newton solver...\n",
      "[Newton:0] x: [0, 2, 0], y: 4.0\n",
      "[Newton:1] x: [0.66666667 1.33333333 0.66666667], y: 2.666666666666666\n",
      "[Newton:2] x: [0.66666667 1.33333333 0.66666667], y: 2.666666666666666\n"
     ]
    },
    {
     "data": {
      "text/plain": [
       "('Newton',\n",
       " 2,\n",
       " array([0.66666667, 1.33333333, 0.66666667]),\n",
       " np.float64(2.666666666666666),\n",
       " True,\n",
       " True)"
      ]
     },
     "execution_count": 47,
     "metadata": {},
     "output_type": "execute_result"
    }
   ],
   "execution_count": 47
  },
  {
   "metadata": {
    "ExecuteTime": {
     "end_time": "2025-06-11T04:56:18.832661Z",
     "start_time": "2025-06-11T04:56:18.824804Z"
    }
   },
   "cell_type": "code",
   "source": [
    "x = np.array([1/3,1/3,1/3])\n",
    "\n",
    "x = np.array([0.1, 0.2, 0.7])\n",
    "f0 = x[0]**2+x[1]**2+(1+x[2])**2\n",
    "phi = -np.sum(np.log(x))"
   ],
   "id": "77f56cdc432b5ea0",
   "outputs": [],
   "execution_count": 48
  },
  {
   "metadata": {
    "ExecuteTime": {
     "end_time": "2025-06-11T04:56:18.848415Z",
     "start_time": "2025-06-11T04:56:18.840384Z"
    }
   },
   "cell_type": "code",
   "source": "f0 + phi",
   "id": "28a5c90ec1683b",
   "outputs": [
    {
     "data": {
      "text/plain": [
       "np.float64(7.2086979493668775)"
      ]
     },
     "execution_count": 49,
     "metadata": {},
     "output_type": "execute_result"
    }
   ],
   "execution_count": 49
  },
  {
   "metadata": {
    "ExecuteTime": {
     "end_time": "2025-06-11T04:56:18.865141Z",
     "start_time": "2025-06-11T04:56:18.856690Z"
    }
   },
   "cell_type": "code",
   "source": "f0",
   "id": "365fcdda1ceebe13",
   "outputs": [
    {
     "data": {
      "text/plain": [
       "np.float64(2.9399999999999995)"
      ]
     },
     "execution_count": 50,
     "metadata": {},
     "output_type": "execute_result"
    }
   ],
   "execution_count": 50
  },
  {
   "metadata": {
    "ExecuteTime": {
     "end_time": "2025-06-11T04:56:21.161016Z",
     "start_time": "2025-06-11T04:56:21.141576Z"
    }
   },
   "cell_type": "code",
   "source": "f0 + None",
   "id": "bebbca894c3f6f2a",
   "outputs": [
    {
     "ename": "TypeError",
     "evalue": "unsupported operand type(s) for +: 'float' and 'NoneType'",
     "output_type": "error",
     "traceback": [
      "\u001B[31m---------------------------------------------------------------------------\u001B[39m",
      "\u001B[31mTypeError\u001B[39m                                 Traceback (most recent call last)",
      "\u001B[36mCell\u001B[39m\u001B[36m \u001B[39m\u001B[32mIn[51]\u001B[39m\u001B[32m, line 1\u001B[39m\n\u001B[32m----> \u001B[39m\u001B[32m1\u001B[39m f0 + \u001B[38;5;28;01mNone\u001B[39;00m\n",
      "\u001B[31mTypeError\u001B[39m: unsupported operand type(s) for +: 'float' and 'NoneType'"
     ]
    }
   ],
   "execution_count": 51
  }
 ],
 "metadata": {
  "kernelspec": {
   "display_name": "Python 3",
   "language": "python",
   "name": "python3"
  },
  "language_info": {
   "codemirror_mode": {
    "name": "ipython",
    "version": 2
   },
   "file_extension": ".py",
   "mimetype": "text/x-python",
   "name": "python",
   "nbconvert_exporter": "python",
   "pygments_lexer": "ipython2",
   "version": "2.7.6"
  }
 },
 "nbformat": 4,
 "nbformat_minor": 5
}
