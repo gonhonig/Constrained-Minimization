{
 "cells": [
  {
   "metadata": {
    "ExecuteTime": {
     "end_time": "2025-06-10T09:23:25.223134Z",
     "start_time": "2025-06-10T09:23:25.153427Z"
    }
   },
   "cell_type": "code",
   "source": [
    "\n",
    "%load_ext autoreload\n",
    "%autoreload 2"
   ],
   "id": "965a0b5d8359822d",
   "outputs": [],
   "execution_count": 1
  },
  {
   "cell_type": "code",
   "id": "initial_id",
   "metadata": {
    "collapsed": true,
    "ExecuteTime": {
     "end_time": "2025-06-10T09:23:25.801020Z",
     "start_time": "2025-06-10T09:23:25.241073Z"
    }
   },
   "source": [
    "import numpy as np\n",
    "\n",
    "from src.constrained_min import InteriorPointSolver\n",
    "from tests.examples import Quadratic, Linear\n",
    "from src.unconstrained_min import Newton\n",
    "from src.utils import show_function"
   ],
   "outputs": [],
   "execution_count": 2
  },
  {
   "metadata": {
    "ExecuteTime": {
     "end_time": "2025-06-10T09:23:26.205832Z",
     "start_time": "2025-06-10T09:23:25.893104Z"
    }
   },
   "cell_type": "code",
   "source": [
    "ineq = [Linear(row) for row in -np.eye(3)]\n",
    "f = Quadratic(np.eye(3)) + Linear([0,0,2]) + 1\n",
    "x0 = np.array([0.1, 0.2, 0.7])\n",
    "A = np.array([[1,1,1]])\n",
    "b = np.array([1])\n",
    "\n",
    "solver = InteriorPointSolver()\n",
    "solver.solve(f, ineq, A, b, x0)"
   ],
   "id": "a1f17b9a493b33e9",
   "outputs": [
    {
     "name": "stdout",
     "output_type": "stream",
     "text": [
      "\n",
      "Solving LogBarrierFunction using Newton solver...\n",
      "[Newton:0] x: [0.1 0.2 0.7], y: 1.94\n",
      "[Newton:1] x: [0.33333333 0.33333333 0.33333333], y: 0.9999999999998364\n",
      "[Newton:2] x: [0.33333333 0.33333333 0.33333333], y: 0.9999999999998364\n",
      "\n",
      "Solving LogBarrierFunction using Newton solver...\n",
      "[Newton:0] x: [0.33333333 0.33333333 0.33333333], y: 18.999999999998362\n",
      "[Newton:1] x: [0.33333333 0.33333333 0.33333333], y: 18.999999999998362\n",
      "\n",
      "Solving LogBarrierFunction using Newton solver...\n",
      "[Newton:0] x: [0.33333333 0.33333333 0.33333333], y: 198.99999999998363\n",
      "[Newton:1] x: [0.33333333 0.33333333 0.33333333], y: 198.99999999998363\n",
      "\n",
      "Solving LogBarrierFunction using Newton solver...\n",
      "[Newton:0] x: [0.33333333 0.33333333 0.33333333], y: 1998.9999999998363\n",
      "[Newton:1] x: [0.33333333 0.33333333 0.33333333], y: 1998.9999999998363\n",
      "\n",
      "Solving LogBarrierFunction using Newton solver...\n",
      "[Newton:0] x: [0.33333333 0.33333333 0.33333333], y: 19998.999999998363\n",
      "[Newton:1] x: [0.33333333 0.33333333 0.33333333], y: 19998.999999998363\n",
      "\n",
      "Solving LogBarrierFunction using Newton solver...\n",
      "[Newton:0] x: [0.33333333 0.33333333 0.33333333], y: 199998.99999998364\n",
      "[Newton:1] x: [0.33333333 0.33333333 0.33333333], y: 199998.99999998364\n",
      "\n",
      "Solving LogBarrierFunction using Newton solver...\n",
      "[Newton:0] x: [0.33333333 0.33333333 0.33333333], y: 1999998.9999998366\n",
      "[Newton:1] x: [0.33333333 0.33333333 0.33333333], y: 1999998.9999998366\n",
      "\n",
      "Solving LogBarrierFunction using Newton solver...\n",
      "[Newton:0] x: [0.33333333 0.33333333 0.33333333], y: 19999998.999998365\n",
      "[Newton:1] x: [0.33333333 0.33333333 0.33333333], y: 19999998.999998365\n",
      "\n",
      "Solving LogBarrierFunction using Newton solver...\n",
      "[Newton:0] x: [0.33333333 0.33333333 0.33333333], y: 199999998.99998367\n",
      "[Newton:1] x: [0.33333333 0.33333333 0.33333333], y: 199999998.99998367\n",
      "\n",
      "Solving LogBarrierFunction using Newton solver...\n",
      "[Newton:0] x: [0.33333333 0.33333333 0.33333333], y: 1999999998.9998367\n",
      "[Newton:1] x: [0.33333333 0.33333333 0.33333333], y: 1999999998.9998367\n",
      "\n",
      "Solving LogBarrierFunction using Newton solver...\n",
      "[Newton:0] x: [0.33333333 0.33333333 0.33333333], y: 19999999998.998367\n",
      "[Newton:1] x: [0.33333333 0.33333333 0.33333333], y: 19999999998.998367\n"
     ]
    },
    {
     "data": {
      "text/plain": [
       "array([0.33333333, 0.33333333, 0.33333333])"
      ]
     },
     "execution_count": 3,
     "metadata": {},
     "output_type": "execute_result"
    }
   ],
   "execution_count": 3
  },
  {
   "metadata": {
    "ExecuteTime": {
     "end_time": "2025-06-10T09:23:26.256443Z",
     "start_time": "2025-06-10T09:23:26.247708Z"
    }
   },
   "cell_type": "code",
   "source": "f.dim",
   "id": "a4f10aeabb007210",
   "outputs": [
    {
     "data": {
      "text/plain": [
       "3"
      ]
     },
     "execution_count": 4,
     "metadata": {},
     "output_type": "execute_result"
    }
   ],
   "execution_count": 4
  },
  {
   "metadata": {
    "ExecuteTime": {
     "end_time": "2025-06-10T09:28:27.240632Z",
     "start_time": "2025-06-10T09:28:27.228620Z"
    }
   },
   "cell_type": "code",
   "source": [
    "f = Quadratic(np.eye(3))\n",
    "A = np.array([1,2,1])\n",
    "b = 4\n",
    "solver = Newton()\n",
    "x0 = [0,2,0]\n",
    "# x0 = [1,1,1]\n",
    "solver.solve(f=f, x0=x0, A=A, b=b)"
   ],
   "id": "5de715469fa37fd5",
   "outputs": [
    {
     "name": "stdout",
     "output_type": "stream",
     "text": [
      "\n",
      "Solving Quadratic using Newton solver...\n",
      "[Newton:0] x: [0, 2, 0], y: 4.0\n",
      "[Newton:1] x: [0.66666667 1.33333333 0.66666667], y: 2.666666666666666\n",
      "[Newton:2] x: [0.66666667 1.33333333 0.66666667], y: 2.666666666666666\n"
     ]
    },
    {
     "data": {
      "text/plain": [
       "('Newton',\n",
       " 2,\n",
       " array([0.66666667, 1.33333333, 0.66666667]),\n",
       " np.float64(2.666666666666666),\n",
       " True,\n",
       " True)"
      ]
     },
     "execution_count": 10,
     "metadata": {},
     "output_type": "execute_result"
    }
   ],
   "execution_count": 10
  },
  {
   "metadata": {
    "ExecuteTime": {
     "end_time": "2025-06-10T14:26:11.554083Z",
     "start_time": "2025-06-10T14:26:11.540029Z"
    }
   },
   "cell_type": "code",
   "source": "np.log(3) == np.ln(3)",
   "id": "fce309c2483908b4",
   "outputs": [
    {
     "data": {
      "text/plain": [
       "np.False_"
      ]
     },
     "execution_count": 15,
     "metadata": {},
     "output_type": "execute_result"
    }
   ],
   "execution_count": 15
  },
  {
   "metadata": {
    "ExecuteTime": {
     "end_time": "2025-06-10T14:58:41.272034Z",
     "start_time": "2025-06-10T14:58:41.247263Z"
    }
   },
   "cell_type": "code",
   "source": [
    "x = np.array([1/3,1/3,1/3])\n",
    "\n",
    "x = np.array([0.1, 0.2, 0.7])\n",
    "f0 = x[0]**2+x[1]**2+(1+x[2])**2\n",
    "phi = -np.sum(np.log(x))"
   ],
   "id": "77f56cdc432b5ea0",
   "outputs": [],
   "execution_count": 34
  },
  {
   "metadata": {
    "ExecuteTime": {
     "end_time": "2025-06-10T14:58:41.586194Z",
     "start_time": "2025-06-10T14:58:41.575115Z"
    }
   },
   "cell_type": "code",
   "source": "f0 + phi",
   "id": "28a5c90ec1683b",
   "outputs": [
    {
     "data": {
      "text/plain": [
       "np.float64(7.2086979493668775)"
      ]
     },
     "execution_count": 35,
     "metadata": {},
     "output_type": "execute_result"
    }
   ],
   "execution_count": 35
  },
  {
   "metadata": {
    "ExecuteTime": {
     "end_time": "2025-06-10T14:58:42.018684Z",
     "start_time": "2025-06-10T14:58:42.008324Z"
    }
   },
   "cell_type": "code",
   "source": "f0",
   "id": "365fcdda1ceebe13",
   "outputs": [
    {
     "data": {
      "text/plain": [
       "np.float64(2.9399999999999995)"
      ]
     },
     "execution_count": 36,
     "metadata": {},
     "output_type": "execute_result"
    }
   ],
   "execution_count": 36
  },
  {
   "metadata": {},
   "cell_type": "code",
   "outputs": [],
   "execution_count": null,
   "source": "",
   "id": "bebbca894c3f6f2a"
  }
 ],
 "metadata": {
  "kernelspec": {
   "display_name": "Python 3",
   "language": "python",
   "name": "python3"
  },
  "language_info": {
   "codemirror_mode": {
    "name": "ipython",
    "version": 2
   },
   "file_extension": ".py",
   "mimetype": "text/x-python",
   "name": "python",
   "nbconvert_exporter": "python",
   "pygments_lexer": "ipython2",
   "version": "2.7.6"
  }
 },
 "nbformat": 4,
 "nbformat_minor": 5
}
