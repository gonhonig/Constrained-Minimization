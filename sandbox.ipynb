{
 "cells": [
  {
   "metadata": {
    "ExecuteTime": {
     "end_time": "2025-06-12T08:10:52.071575Z",
     "start_time": "2025-06-12T08:10:51.996144Z"
    }
   },
   "cell_type": "code",
   "source": [
    "\n",
    "%load_ext autoreload\n",
    "%autoreload 2"
   ],
   "id": "965a0b5d8359822d",
   "outputs": [],
   "execution_count": 1
  },
  {
   "metadata": {
    "ExecuteTime": {
     "end_time": "2025-06-12T08:10:52.263885Z",
     "start_time": "2025-06-12T08:10:52.143523Z"
    }
   },
   "cell_type": "code",
   "source": [
    "from src.common import *\n",
    "\n",
    "M = np.arange(5*2).reshape((5,2))\n",
    "C = np.arange(8)\n",
    "\n",
    "x = np.concatenate((M.ravel(),C.ravel()))\n",
    "\n",
    "\n",
    "a = Variable(M.shape)\n",
    "b = Variable(8)\n",
    "a.set_pos(0)\n",
    "b.set_pos(np.prod(M.shape))\n",
    "\n",
    "i = b[4]\n",
    "i(x)"
   ],
   "id": "86a4b918dce484bd",
   "outputs": [
    {
     "data": {
      "text/plain": [
       "np.int64(4)"
      ]
     },
     "execution_count": 2,
     "metadata": {},
     "output_type": "execute_result"
    }
   ],
   "execution_count": 2
  },
  {
   "metadata": {
    "ExecuteTime": {
     "end_time": "2025-06-12T08:10:52.319252Z",
     "start_time": "2025-06-12T08:10:52.287395Z"
    }
   },
   "cell_type": "code",
   "source": "np.prod(M.shape)",
   "id": "5611e8ed2b75721",
   "outputs": [
    {
     "data": {
      "text/plain": [
       "np.int64(10)"
      ]
     },
     "execution_count": 3,
     "metadata": {},
     "output_type": "execute_result"
    }
   ],
   "execution_count": 3
  },
  {
   "metadata": {
    "ExecuteTime": {
     "end_time": "2025-06-12T08:10:52.345853Z",
     "start_time": "2025-06-12T08:10:52.333561Z"
    }
   },
   "cell_type": "code",
   "source": [
    "p = a[0,:]\n",
    "q = b[3:5]\n",
    "hs = hstack((p,q, [3,4]))"
   ],
   "id": "738366d891c80037",
   "outputs": [],
   "execution_count": 4
  },
  {
   "metadata": {
    "ExecuteTime": {
     "end_time": "2025-06-12T08:14:23.279407Z",
     "start_time": "2025-06-12T08:14:23.269946Z"
    }
   },
   "cell_type": "code",
   "source": "C[3:5]",
   "id": "20971d4a95a03129",
   "outputs": [
    {
     "data": {
      "text/plain": [
       "array([3, 4])"
      ]
     },
     "execution_count": 15,
     "metadata": {},
     "output_type": "execute_result"
    }
   ],
   "execution_count": 15
  },
  {
   "metadata": {
    "ExecuteTime": {
     "end_time": "2025-06-12T08:10:52.384850Z",
     "start_time": "2025-06-12T08:10:52.374442Z"
    }
   },
   "cell_type": "code",
   "source": "p(x)",
   "id": "363eedb18dbc22f3",
   "outputs": [
    {
     "data": {
      "text/plain": [
       "array([0, 1])"
      ]
     },
     "execution_count": 6,
     "metadata": {},
     "output_type": "execute_result"
    }
   ],
   "execution_count": 6
  },
  {
   "metadata": {
    "ExecuteTime": {
     "end_time": "2025-06-12T08:14:53.395512Z",
     "start_time": "2025-06-12T08:14:53.373618Z"
    }
   },
   "cell_type": "code",
   "source": [
    "sum = p + q\n",
    "sum(x), p(x), q(x)"
   ],
   "id": "b83ad7f2deff410a",
   "outputs": [
    {
     "data": {
      "text/plain": [
       "(array([3, 5]), array([0, 1]), array([3, 4]))"
      ]
     },
     "execution_count": 17,
     "metadata": {},
     "output_type": "execute_result"
    }
   ],
   "execution_count": 17
  },
  {
   "metadata": {
    "ExecuteTime": {
     "end_time": "2025-06-12T11:13:04.222954Z",
     "start_time": "2025-06-12T11:13:04.219537Z"
    }
   },
   "cell_type": "code",
   "source": "[1,2,3,4,5] + [None]",
   "id": "d5b1d1d34d474cd1",
   "outputs": [
    {
     "data": {
      "text/plain": [
       "[1, 2, 3, 4, 5, None]"
      ]
     },
     "execution_count": 3,
     "metadata": {},
     "output_type": "execute_result"
    }
   ],
   "execution_count": 3
  },
  {
   "metadata": {},
   "cell_type": "code",
   "outputs": [],
   "execution_count": null,
   "source": "",
   "id": "9195a00f2d38385e"
  }
 ],
 "metadata": {
  "kernelspec": {
   "display_name": "Python 3",
   "language": "python",
   "name": "python3"
  },
  "language_info": {
   "codemirror_mode": {
    "name": "ipython",
    "version": 2
   },
   "file_extension": ".py",
   "mimetype": "text/x-python",
   "name": "python",
   "nbconvert_exporter": "python",
   "pygments_lexer": "ipython2",
   "version": "2.7.6"
  }
 },
 "nbformat": 4,
 "nbformat_minor": 5
}
