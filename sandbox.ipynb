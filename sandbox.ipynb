{
 "cells": [
  {
   "metadata": {
    "ExecuteTime": {
     "end_time": "2025-06-12T07:36:17.861547Z",
     "start_time": "2025-06-12T07:36:17.831234Z"
    }
   },
   "cell_type": "code",
   "source": [
    "\n",
    "%load_ext autoreload\n",
    "%autoreload 2"
   ],
   "id": "965a0b5d8359822d",
   "outputs": [],
   "execution_count": 1
  },
  {
   "metadata": {
    "ExecuteTime": {
     "end_time": "2025-06-12T07:36:18.039807Z",
     "start_time": "2025-06-12T07:36:17.915030Z"
    }
   },
   "cell_type": "code",
   "source": [
    "from src.common import *\n",
    "\n",
    "M = np.arange(5*2).reshape((5,2))\n",
    "C = np.arange(8)\n",
    "\n",
    "x = np.concatenate((M.ravel(),C.ravel()))\n",
    "\n",
    "\n",
    "a = Variable(M.shape)\n",
    "b = Variable(8)\n",
    "a.set_pos(0)\n",
    "b.set_pos(np.prod(M.shape))\n",
    "\n",
    "i = b[4]\n",
    "i(x)"
   ],
   "id": "86a4b918dce484bd",
   "outputs": [
    {
     "data": {
      "text/plain": [
       "np.int64(4)"
      ]
     },
     "execution_count": 2,
     "metadata": {},
     "output_type": "execute_result"
    }
   ],
   "execution_count": 2
  },
  {
   "metadata": {
    "ExecuteTime": {
     "end_time": "2025-06-12T07:36:18.152537Z",
     "start_time": "2025-06-12T07:36:18.096420Z"
    }
   },
   "cell_type": "code",
   "source": "np.prod(M.shape)",
   "id": "5611e8ed2b75721",
   "outputs": [
    {
     "data": {
      "text/plain": [
       "np.int64(10)"
      ]
     },
     "execution_count": 3,
     "metadata": {},
     "output_type": "execute_result"
    }
   ],
   "execution_count": 3
  },
  {
   "metadata": {
    "ExecuteTime": {
     "end_time": "2025-06-12T07:36:56.142250Z",
     "start_time": "2025-06-12T07:36:56.130617Z"
    }
   },
   "cell_type": "code",
   "source": [
    "p = a[0,:]\n",
    "q = b[3:5]\n",
    "hs = hstack((p,q, [3,4]))"
   ],
   "id": "738366d891c80037",
   "outputs": [],
   "execution_count": 8
  },
  {
   "metadata": {
    "ExecuteTime": {
     "end_time": "2025-06-12T07:36:56.844476Z",
     "start_time": "2025-06-12T07:36:56.835905Z"
    }
   },
   "cell_type": "code",
   "source": "hs(x)",
   "id": "20971d4a95a03129",
   "outputs": [
    {
     "data": {
      "text/plain": [
       "array([0, 1, 3, 4, 3, 4])"
      ]
     },
     "execution_count": 9,
     "metadata": {},
     "output_type": "execute_result"
    }
   ],
   "execution_count": 9
  },
  {
   "metadata": {
    "ExecuteTime": {
     "end_time": "2025-06-12T07:36:18.258673Z",
     "start_time": "2025-06-12T07:36:18.256743Z"
    }
   },
   "cell_type": "code",
   "source": "",
   "id": "363eedb18dbc22f3",
   "outputs": [],
   "execution_count": null
  }
 ],
 "metadata": {
  "kernelspec": {
   "display_name": "Python 3",
   "language": "python",
   "name": "python3"
  },
  "language_info": {
   "codemirror_mode": {
    "name": "ipython",
    "version": 2
   },
   "file_extension": ".py",
   "mimetype": "text/x-python",
   "name": "python",
   "nbconvert_exporter": "python",
   "pygments_lexer": "ipython2",
   "version": "2.7.6"
  }
 },
 "nbformat": 4,
 "nbformat_minor": 5
}
