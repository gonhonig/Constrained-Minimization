{
 "cells": [
  {
   "metadata": {
    "ExecuteTime": {
     "end_time": "2025-06-12T08:10:52.071575Z",
     "start_time": "2025-06-12T08:10:51.996144Z"
    }
   },
   "cell_type": "code",
   "source": [
    "\n",
    "%load_ext autoreload\n",
    "%autoreload 2"
   ],
   "id": "965a0b5d8359822d",
   "outputs": [],
   "execution_count": 1
  },
  {
   "metadata": {
    "ExecuteTime": {
     "end_time": "2025-06-12T08:10:52.263885Z",
     "start_time": "2025-06-12T08:10:52.143523Z"
    }
   },
   "cell_type": "code",
   "source": [
    "from src.common import *\n",
    "\n",
    "M = np.arange(5*2).reshape((5,2))\n",
    "C = np.arange(8)\n",
    "\n",
    "x = np.concatenate((M.ravel(),C.ravel()))\n",
    "\n",
    "\n",
    "a = Variable(M.shape)\n",
    "b = Variable(8)\n",
    "a.set_pos(0)\n",
    "b.set_pos(np.prod(M.shape))\n",
    "\n",
    "i = b[4]\n",
    "i(x)"
   ],
   "id": "86a4b918dce484bd",
   "outputs": [
    {
     "data": {
      "text/plain": [
       "np.int64(4)"
      ]
     },
     "execution_count": 2,
     "metadata": {},
     "output_type": "execute_result"
    }
   ],
   "execution_count": 2
  },
  {
   "metadata": {
    "ExecuteTime": {
     "end_time": "2025-06-12T08:10:52.319252Z",
     "start_time": "2025-06-12T08:10:52.287395Z"
    }
   },
   "cell_type": "code",
   "source": "np.prod(M.shape)",
   "id": "5611e8ed2b75721",
   "outputs": [
    {
     "data": {
      "text/plain": [
       "np.int64(10)"
      ]
     },
     "execution_count": 3,
     "metadata": {},
     "output_type": "execute_result"
    }
   ],
   "execution_count": 3
  },
  {
   "metadata": {
    "ExecuteTime": {
     "end_time": "2025-06-12T08:10:52.345853Z",
     "start_time": "2025-06-12T08:10:52.333561Z"
    }
   },
   "cell_type": "code",
   "source": [
    "p = a[0,:]\n",
    "q = b[3:5]\n",
    "hs = hstack((p,q, [3,4]))"
   ],
   "id": "738366d891c80037",
   "outputs": [],
   "execution_count": 4
  },
  {
   "metadata": {
    "ExecuteTime": {
     "end_time": "2025-06-12T08:14:23.279407Z",
     "start_time": "2025-06-12T08:14:23.269946Z"
    }
   },
   "cell_type": "code",
   "source": "C[3:5]",
   "id": "20971d4a95a03129",
   "outputs": [
    {
     "data": {
      "text/plain": [
       "array([3, 4])"
      ]
     },
     "execution_count": 15,
     "metadata": {},
     "output_type": "execute_result"
    }
   ],
   "execution_count": 15
  },
  {
   "metadata": {
    "ExecuteTime": {
     "end_time": "2025-06-12T08:10:52.384850Z",
     "start_time": "2025-06-12T08:10:52.374442Z"
    }
   },
   "cell_type": "code",
   "source": "p(x)",
   "id": "363eedb18dbc22f3",
   "outputs": [
    {
     "data": {
      "text/plain": [
       "array([0, 1])"
      ]
     },
     "execution_count": 6,
     "metadata": {},
     "output_type": "execute_result"
    }
   ],
   "execution_count": 6
  },
  {
   "metadata": {
    "ExecuteTime": {
     "end_time": "2025-06-12T08:14:53.395512Z",
     "start_time": "2025-06-12T08:14:53.373618Z"
    }
   },
   "cell_type": "code",
   "source": [
    "import numpy as np\n",
    "\n",
    "M = np.linspace(0, 10, 10, dtype=int)\n",
    "shape = M.shape\n",
    "a = Variable(10)\n",
    "b = M.ravel()\n",
    "b[a[2]], M[2]"
   ],
   "id": "b83ad7f2deff410a",
   "outputs": [
    {
     "data": {
      "text/plain": [
       "(array([3, 5]), array([0, 1]), array([3, 4]))"
      ]
     },
     "execution_count": 17,
     "metadata": {},
     "output_type": "execute_result"
    }
   ],
   "execution_count": 17
  },
  {
   "metadata": {
    "ExecuteTime": {
     "end_time": "2025-06-12T11:13:04.222954Z",
     "start_time": "2025-06-12T11:13:04.219537Z"
    }
   },
   "cell_type": "code",
   "source": "[1,2,3,4,5] + [None]",
   "id": "d5b1d1d34d474cd1",
   "outputs": [
    {
     "data": {
      "text/plain": [
       "[1, 2, 3, 4, 5, None]"
      ]
     },
     "execution_count": 3,
     "metadata": {},
     "output_type": "execute_result"
    }
   ],
   "execution_count": 3
  },
  {
   "metadata": {
    "ExecuteTime": {
     "end_time": "2025-06-14T15:59:09.862228Z",
     "start_time": "2025-06-14T15:59:09.859847Z"
    }
   },
   "cell_type": "code",
   "source": [
    "a = [[1, 2, 3, 4, 5],\n",
    "     [1, 2, 3, 4, 5],\n",
    "     [1, 2, 3, 4, 5],]"
   ],
   "id": "e877b5335f16377",
   "outputs": [],
   "execution_count": 2
  },
  {
   "metadata": {
    "ExecuteTime": {
     "end_time": "2025-06-14T15:59:31.797128Z",
     "start_time": "2025-06-14T15:59:31.792860Z"
    }
   },
   "cell_type": "code",
   "source": [
    "import numpy as np\n",
    "\n",
    "np.pad(a, mode='constant', pad_width=((0,0), (0,1)), constant_values=0)"
   ],
   "id": "d98c6aeceef8e202",
   "outputs": [
    {
     "data": {
      "text/plain": [
       "array([[1, 2, 3, 4, 5, 0],\n",
       "       [1, 2, 3, 4, 5, 0],\n",
       "       [1, 2, 3, 4, 5, 0]])"
      ]
     },
     "execution_count": 5,
     "metadata": {},
     "output_type": "execute_result"
    }
   ],
   "execution_count": 5
  },
  {
   "metadata": {
    "ExecuteTime": {
     "end_time": "2025-06-13T12:30:10.774473Z",
     "start_time": "2025-06-13T12:30:10.769309Z"
    }
   },
   "cell_type": "code",
   "source": [
    "m = 100\n",
    "epsilon = 1e-8\n",
    "\n",
    "m / e"
   ],
   "id": "18881351025957be",
   "outputs": [
    {
     "data": {
      "text/plain": [
       "10000000000.0"
      ]
     },
     "execution_count": 22,
     "metadata": {},
     "output_type": "execute_result"
    }
   ],
   "execution_count": 22
  },
  {
   "metadata": {
    "ExecuteTime": {
     "end_time": "2025-06-13T12:30:21.713632Z",
     "start_time": "2025-06-13T12:30:21.708956Z"
    }
   },
   "cell_type": "code",
   "source": [
    "import math\n",
    "from tqdm import tqdm\n",
    "max_iterations = math.ceil(math.log10(m / epsilon))\n",
    "\n",
    "t = 1\n",
    "for i in tqdm(range(max_iterations)):\n",
    "    # Your iteration logic here\n",
    "    if t > m / epsilon:\n",
    "        break\n",
    "    t *= 10"
   ],
   "id": "701155bb093af696",
   "outputs": [
    {
     "name": "stderr",
     "output_type": "stream",
     "text": [
      "100%|██████████| 10/10 [00:00<00:00, 188932.61it/s]\n"
     ]
    }
   ],
   "execution_count": 23
  },
  {
   "metadata": {},
   "cell_type": "code",
   "outputs": [],
   "execution_count": null,
   "source": "",
   "id": "9c8c0933e25885f0"
  }
 ],
 "metadata": {
  "kernelspec": {
   "display_name": "Python 3",
   "language": "python",
   "name": "python3"
  },
  "language_info": {
   "codemirror_mode": {
    "name": "ipython",
    "version": 2
   },
   "file_extension": ".py",
   "mimetype": "text/x-python",
   "name": "python",
   "nbconvert_exporter": "python",
   "pygments_lexer": "ipython2",
   "version": "2.7.6"
  }
 },
 "nbformat": 4,
 "nbformat_minor": 5
}
